{
  "nbformat": 4,
  "nbformat_minor": 0,
  "metadata": {
    "colab": {
      "name": "FinalProject_Training.ipynb",
      "provenance": [],
      "collapsed_sections": [],
      "authorship_tag": "ABX9TyMDCGDVWwnf0h8mHZScTE9B",
      "include_colab_link": true
    },
    "kernelspec": {
      "name": "python3",
      "display_name": "Python 3"
    },
    "accelerator": "GPU"
  },
  "cells": [
    {
      "cell_type": "markdown",
      "metadata": {
        "id": "view-in-github",
        "colab_type": "text"
      },
      "source": [
        "<a href=\"https://colab.research.google.com/github/dldbsrn0120/Sejong_AI_Final/blob/master/FinalProject_Training.ipynb\" target=\"_parent\"><img src=\"https://colab.research.google.com/assets/colab-badge.svg\" alt=\"Open In Colab\"/></a>"
      ]
    },
    {
      "cell_type": "code",
      "metadata": {
        "id": "jIjxGZvYbuaC",
        "colab_type": "code",
        "colab": {}
      },
      "source": [
        "# AI Final Projcet 15010963 Lee Yoon Gu\n",
        "\n",
        "# Implement Deep Learning Training Model using Keras, VGG16 CNN architecture"
      ],
      "execution_count": null,
      "outputs": []
    },
    {
      "cell_type": "code",
      "metadata": {
        "id": "6uHdrJQz68Co",
        "colab_type": "code",
        "colab": {
          "base_uri": "https://localhost:8080/",
          "height": 125
        },
        "outputId": "607c7d93-1908-41c6-89b7-d13d865baa26"
      },
      "source": [
        "from google.colab import drive\n",
        "drive.mount('/content/drive')"
      ],
      "execution_count": null,
      "outputs": [
        {
          "output_type": "stream",
          "text": [
            "Go to this URL in a browser: https://accounts.google.com/o/oauth2/auth?client_id=947318989803-6bn6qk8qdgf4n4g3pfee6491hc0brc4i.apps.googleusercontent.com&redirect_uri=urn%3aietf%3awg%3aoauth%3a2.0%3aoob&response_type=code&scope=email%20https%3a%2f%2fwww.googleapis.com%2fauth%2fdocs.test%20https%3a%2f%2fwww.googleapis.com%2fauth%2fdrive%20https%3a%2f%2fwww.googleapis.com%2fauth%2fdrive.photos.readonly%20https%3a%2f%2fwww.googleapis.com%2fauth%2fpeopleapi.readonly\n",
            "\n",
            "Enter your authorization code:\n",
            "··········\n",
            "Mounted at /content/drive\n"
          ],
          "name": "stdout"
        }
      ]
    },
    {
      "cell_type": "code",
      "metadata": {
        "id": "aEvLmBBbsLd8",
        "colab_type": "code",
        "colab": {
          "base_uri": "https://localhost:8080/",
          "height": 34
        },
        "outputId": "3bb3f07c-be5e-4342-f573-e094305d7f16"
      },
      "source": [
        "# load libraries\n",
        "\n",
        "import keras\n",
        "\n",
        "from keras_applications.vgg16 import VGG16\n",
        "from keras.callbacks import ModelCheckpoint\n",
        "\n",
        "from keras.models import Model\n",
        "from keras.preprocessing.image import ImageDataGenerator\n",
        "\n",
        "from keras import models, layers\n",
        "from keras import optimizers, initializers, regularizers, metrics\n",
        "\n",
        "import os\n",
        "import random\n",
        "import math\n"
      ],
      "execution_count": null,
      "outputs": [
        {
          "output_type": "stream",
          "text": [
            "Using TensorFlow backend.\n"
          ],
          "name": "stderr"
        }
      ]
    },
    {
      "cell_type": "code",
      "metadata": {
        "id": "IacH4pUPr4sF",
        "colab_type": "code",
        "colab": {
          "base_uri": "https://localhost:8080/",
          "height": 1000
        },
        "outputId": "fd37b58e-3156-4fdb-b64f-30d702b4ee4a"
      },
      "source": [
        "# set VGG16 model\n",
        "# do transter learning by using imagenet weights\n",
        "pre_model = VGG16(weights='imagenet', include_top=False, input_shape=(224, 224, 3), backend=keras.backend,\n",
        "                  layers=keras.layers, models=keras.models, utils=keras.utils)\n",
        "pre_model.trainable = True\n",
        "pre_model.summary()\n",
        "\n",
        "vgg_model = models.Sequential()\n",
        "vgg_model.add(pre_model)\n",
        "vgg_model.add(layers.Flatten())\n",
        "\n",
        "# modify FC layers for classify 1000 -> 1024 as relu, and add 4 softmax\n",
        "vgg_model.add(layers.Dense(4096, activation='relu'))\n",
        "vgg_model.add(layers.Dense(1024, activation='relu'))\n",
        "vgg_model.add(layers.Dense(4, activation='softmax'))\n",
        "# set soft max = 4 because i will classify 4 car classes.\n",
        "\n",
        "# 1 - small car\n",
        "# 2 - sedan\n",
        "# 3 - suv\n",
        "# 4 - van\n",
        "\n",
        "# print summary\n",
        "vgg_model.summary()\n"
      ],
      "execution_count": null,
      "outputs": [
        {
          "output_type": "stream",
          "text": [
            "Model: \"vgg16\"\n",
            "_________________________________________________________________\n",
            "Layer (type)                 Output Shape              Param #   \n",
            "=================================================================\n",
            "input_1 (InputLayer)         (None, 224, 224, 3)       0         \n",
            "_________________________________________________________________\n",
            "block1_conv1 (Conv2D)        (None, 224, 224, 64)      1792      \n",
            "_________________________________________________________________\n",
            "block1_conv2 (Conv2D)        (None, 224, 224, 64)      36928     \n",
            "_________________________________________________________________\n",
            "block1_pool (MaxPooling2D)   (None, 112, 112, 64)      0         \n",
            "_________________________________________________________________\n",
            "block2_conv1 (Conv2D)        (None, 112, 112, 128)     73856     \n",
            "_________________________________________________________________\n",
            "block2_conv2 (Conv2D)        (None, 112, 112, 128)     147584    \n",
            "_________________________________________________________________\n",
            "block2_pool (MaxPooling2D)   (None, 56, 56, 128)       0         \n",
            "_________________________________________________________________\n",
            "block3_conv1 (Conv2D)        (None, 56, 56, 256)       295168    \n",
            "_________________________________________________________________\n",
            "block3_conv2 (Conv2D)        (None, 56, 56, 256)       590080    \n",
            "_________________________________________________________________\n",
            "block3_conv3 (Conv2D)        (None, 56, 56, 256)       590080    \n",
            "_________________________________________________________________\n",
            "block3_pool (MaxPooling2D)   (None, 28, 28, 256)       0         \n",
            "_________________________________________________________________\n",
            "block4_conv1 (Conv2D)        (None, 28, 28, 512)       1180160   \n",
            "_________________________________________________________________\n",
            "block4_conv2 (Conv2D)        (None, 28, 28, 512)       2359808   \n",
            "_________________________________________________________________\n",
            "block4_conv3 (Conv2D)        (None, 28, 28, 512)       2359808   \n",
            "_________________________________________________________________\n",
            "block4_pool (MaxPooling2D)   (None, 14, 14, 512)       0         \n",
            "_________________________________________________________________\n",
            "block5_conv1 (Conv2D)        (None, 14, 14, 512)       2359808   \n",
            "_________________________________________________________________\n",
            "block5_conv2 (Conv2D)        (None, 14, 14, 512)       2359808   \n",
            "_________________________________________________________________\n",
            "block5_conv3 (Conv2D)        (None, 14, 14, 512)       2359808   \n",
            "_________________________________________________________________\n",
            "block5_pool (MaxPooling2D)   (None, 7, 7, 512)         0         \n",
            "=================================================================\n",
            "Total params: 14,714,688\n",
            "Trainable params: 14,714,688\n",
            "Non-trainable params: 0\n",
            "_________________________________________________________________\n",
            "Model: \"sequential_1\"\n",
            "_________________________________________________________________\n",
            "Layer (type)                 Output Shape              Param #   \n",
            "=================================================================\n",
            "vgg16 (Model)                (None, 7, 7, 512)         14714688  \n",
            "_________________________________________________________________\n",
            "flatten_1 (Flatten)          (None, 25088)             0         \n",
            "_________________________________________________________________\n",
            "dense_1 (Dense)              (None, 4096)              102764544 \n",
            "_________________________________________________________________\n",
            "dense_2 (Dense)              (None, 1024)              4195328   \n",
            "_________________________________________________________________\n",
            "dense_3 (Dense)              (None, 4)                 4100      \n",
            "=================================================================\n",
            "Total params: 121,678,660\n",
            "Trainable params: 121,678,660\n",
            "Non-trainable params: 0\n",
            "_________________________________________________________________\n"
          ],
          "name": "stdout"
        }
      ]
    },
    {
      "cell_type": "code",
      "metadata": {
        "id": "mlh2zrfq966M",
        "colab_type": "code",
        "colab": {
          "base_uri": "https://localhost:8080/",
          "height": 52
        },
        "outputId": "f67bdfc0-05f0-4d22-e142-b1f0dedefa07"
      },
      "source": [
        "\n",
        "# Loss function = categorical_cross entropy\n",
        "# optimization function use = RMSprop\n",
        "# set learning rate = 2e - 5\n",
        "vgg_model.compile(loss='categorical_crossentropy', optimizer=optimizers.RMSprop(lr=2e-5), metrics=['acc'])\n",
        "\n",
        "#load images\n",
        "\n",
        "train_dir = \"/content/drive/My Drive/AI_Final/car_train_set/\"\n",
        "val_dir = \"/content/drive/My Drive/AI_Final/car_valid_set/\"\n",
        "\n",
        "# rescale values from 0 to 255 for 0 to 1 rescaled values\n",
        "\n",
        "train_datagen = ImageDataGenerator(rescale=1. / 255)\n",
        "val_datagen = ImageDataGenerator(rescale=1. / 255)\n",
        "\n",
        "# set batchsize = 32\n",
        "\n",
        "# load images by ImageDataGenerator\n",
        "\n",
        "train_generator = train_datagen.flow_from_directory(train_dir, batch_size=32, target_size=(224, 224), color_mode='rgb')\n",
        "val_generator = val_datagen.flow_from_directory(val_dir, batch_size=32, target_size=(224, 224), color_mode='rgb')"
      ],
      "execution_count": null,
      "outputs": [
        {
          "output_type": "stream",
          "text": [
            "Found 1708 images belonging to 4 classes.\n",
            "Found 571 images belonging to 4 classes.\n"
          ],
          "name": "stdout"
        }
      ]
    },
    {
      "cell_type": "code",
      "metadata": {
        "id": "Lmo7qYif9-_a",
        "colab_type": "code",
        "colab": {
          "base_uri": "https://localhost:8080/",
          "height": 266
        },
        "outputId": "f1014632-e9ec-4516-c69d-8e16c63d42e7"
      },
      "source": [
        "checkpoint = ModelCheckpoint(filepath=\"/content/drive/My Drive/AI_Final/car_weight.hdf5\",\n",
        "                             monitor='loss',\n",
        "                             mode='min',\n",
        "                             save_best_only=True\n",
        "                             )\n",
        "\n",
        "#do transfer learning by using imagenet\n",
        "\n",
        "history = vgg_model.fit_generator(train_generator,\n",
        "                                  steps_per_epoch=math.ceil(train_generator.n / train_generator.batch_size),\n",
        "                                  epochs = 5, # 5 epoch (train all data by 5 times)\n",
        "                                  validation_data=val_generator,\n",
        "                                  validation_steps=math.ceil(val_generator.n / val_generator.batch_size),\n",
        "                                  callbacks=[checkpoint],\n",
        "                                  verbose=1)\n",
        "# save result to my drive\n",
        "vgg_model.save_weights(\"/content/drive/My Drive/AI_Final/car_weight_result.h5\")\n",
        "print(\"Done\")"
      ],
      "execution_count": null,
      "outputs": [
        {
          "output_type": "stream",
          "text": [
            "Epoch 1/5\n",
            "53/54 [============================>.] - ETA: 15s - loss: 0.7518 - acc: 0.7029"
          ],
          "name": "stdout"
        },
        {
          "output_type": "stream",
          "text": [
            "/usr/local/lib/python3.6/dist-packages/keras/utils/data_utils.py:616: UserWarning: The input 16 could not be retrieved. It could be because a worker has died.\n",
            "  UserWarning)\n"
          ],
          "name": "stderr"
        },
        {
          "output_type": "stream",
          "text": [
            "\b\b\b\b\b\b\b\b\b\b\b\b\b\b\b\b\b\b\b\b\b\b\b\b\b\b\b\b\b\b\b\b\b\b\b\b\b\b\b\b\b\b\b\b\b\b\b\b\b\b\b\b\b\b\b\b\b\b\b\b\b\b\b\b\b\b\b\b\b\b\b\b\b\b\b\b\b\b\r54/54 [==============================] - 966s 18s/step - loss: 0.7444 - acc: 0.7055 - val_loss: 0.2584 - val_acc: 0.8984\n",
            "Epoch 2/5\n",
            "54/54 [==============================] - 140s 3s/step - loss: 0.0960 - acc: 0.9696 - val_loss: 0.0225 - val_acc: 0.9912\n",
            "Epoch 3/5\n",
            "54/54 [==============================] - 145s 3s/step - loss: 0.0834 - acc: 0.9795 - val_loss: 0.0050 - val_acc: 0.9947\n",
            "Epoch 4/5\n",
            "54/54 [==============================] - 143s 3s/step - loss: 0.0014 - acc: 1.0000 - val_loss: 0.2435 - val_acc: 0.9895\n",
            "Epoch 5/5\n",
            "54/54 [==============================] - 142s 3s/step - loss: 0.0484 - acc: 0.9865 - val_loss: 0.0256 - val_acc: 0.9737\n",
            "Done\n"
          ],
          "name": "stdout"
        }
      ]
    }
  ]
}