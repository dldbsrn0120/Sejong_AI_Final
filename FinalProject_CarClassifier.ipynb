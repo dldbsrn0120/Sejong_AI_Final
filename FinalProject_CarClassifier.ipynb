{
  "nbformat": 4,
  "nbformat_minor": 0,
  "metadata": {
    "colab": {
      "name": "FinalProject_CarClassifier.ipynb",
      "provenance": [],
      "authorship_tag": "ABX9TyPWMWEqd2tUHn/5A++gCU5I",
      "include_colab_link": true
    },
    "kernelspec": {
      "name": "python3",
      "display_name": "Python 3"
    }
  },
  "cells": [
    {
      "cell_type": "markdown",
      "metadata": {
        "id": "view-in-github",
        "colab_type": "text"
      },
      "source": [
        "<a href=\"https://colab.research.google.com/github/dldbsrn0120/Sejong_AI_Final/blob/master/FinalProject_CarClassifier.ipynb\" target=\"_parent\"><img src=\"https://colab.research.google.com/assets/colab-badge.svg\" alt=\"Open In Colab\"/></a>"
      ]
    },
    {
      "cell_type": "code",
      "metadata": {
        "id": "xpIm0zQwshJw",
        "colab_type": "code",
        "colab": {}
      },
      "source": [
        "# my github id : dldbsrn0120\n",
        "\n",
        "# AI Final Projcet\n",
        "# Topic : Classifying Cars\n",
        "# small car, sedan, suv, and van ( 4 classes )\n",
        "\n",
        "# Test Guide\n",
        "\n",
        "# 1 - small car - KIA Morning\n",
        "# 2 - sedan - KIA k5\n",
        "# 3 - suv - KIA sorento\n",
        "# 4 - van - KIA carnival\n",
        "- \n",
        "# dataset \n",
        "# Train, Valid, Test set is independent car set(no duplicate things exist)\n",
        "\n",
        "# Test accuracy"
      ],
      "execution_count": null,
      "outputs": []
    },
    {
      "cell_type": "code",
      "metadata": {
        "id": "-krEsByGEIHZ",
        "colab_type": "code",
        "colab": {
          "base_uri": "https://localhost:8080/",
          "height": 34
        },
        "outputId": "3be1353a-f322-49d5-bf45-eb02978b3642"
      },
      "source": [
        "import osimport numpy as np\n",
        "import random\n",
        "import PIL\n",
        "from keras_applications.vgg16 import VGG16\n",
        "from keras import models, layers\n",
        "from keras import optimizers\n",
        "\n",
        "import keras"
      ],
      "execution_count": null,
      "outputs": [
        {
          "output_type": "stream",
          "text": [
            "Using TensorFlow backend.\n"
          ],
          "name": "stderr"
        }
      ]
    },
    {
      "cell_type": "code",
      "metadata": {
        "id": "xm8pr0veIyi0",
        "colab_type": "code",
        "colab": {
          "base_uri": "https://localhost:8080/",
          "height": 125
        },
        "outputId": "97daf6d1-87e7-4c88-ec47-04976975b868"
      },
      "source": [
        "from google.colab import drive\n",
        "drive.mount('/content/drive')"
      ],
      "execution_count": null,
      "outputs": [
        {
          "output_type": "stream",
          "text": [
            "Go to this URL in a browser: https://accounts.google.com/o/oauth2/auth?client_id=947318989803-6bn6qk8qdgf4n4g3pfee6491hc0brc4i.apps.googleusercontent.com&redirect_uri=urn%3aietf%3awg%3aoauth%3a2.0%3aoob&response_type=code&scope=email%20https%3a%2f%2fwww.googleapis.com%2fauth%2fdocs.test%20https%3a%2f%2fwww.googleapis.com%2fauth%2fdrive%20https%3a%2f%2fwww.googleapis.com%2fauth%2fdrive.photos.readonly%20https%3a%2f%2fwww.googleapis.com%2fauth%2fpeopleapi.readonly\n",
            "\n",
            "Enter your authorization code:\n",
            "··········\n",
            "Mounted at /content/drive\n"
          ],
          "name": "stdout"
        }
      ]
    },
    {
      "cell_type": "code",
      "metadata": {
        "id": "Oc9Mn31oCpkS",
        "colab_type": "code",
        "colab": {
          "base_uri": "https://localhost:8080/",
          "height": 1000
        },
        "outputId": "780ed92c-fbee-42ca-d5d7-4e0ad14b2614"
      },
      "source": [
        "car_label = np.loadtxt(\"/content/drive/My Drive/AI_Final/class_label.csv\", delimiter=',', dtype='str')\n",
        "\n",
        "#load vgg16\n",
        "pre_model = VGG16(weights='imagenet', include_top=False, input_shape=(224, 224, 3), backend=keras.backend,\n",
        "                  layers=keras.layers, models=keras.models, utils=keras.utils)\n",
        "pre_model.trainable = True\n",
        "pre_model.summary()\n",
        "\n",
        "# add output layer for VGG16 output 4096 -> 1024 -> 4\n",
        "# to classify 4 classes\n",
        "\n",
        "vgg_model = models.Sequential()\n",
        "vgg_model.add(pre_model)\n",
        "vgg_model.add(layers.Flatten())\n",
        "vgg_model.add(layers.Dense(4096, activation='relu'))\n",
        "vgg_model.add(layers.Dense(1024, activation='relu'))\n",
        "vgg_model.add(layers.Dense(4, activation='softmax'))\n",
        "vgg_model.summary()\n",
        "vgg_model.compile(loss='categorical_crossentropy', optimizer=optimizers.RMSprop(lr=2e-5), metrics=['acc'])\n",
        "vgg_model.load_weights(\"/content/drive/My Drive/AI_Final/car_weight_result.h5\")\n"
      ],
      "execution_count": null,
      "outputs": [
        {
          "output_type": "stream",
          "text": [
            "Downloading data from https://github.com/fchollet/deep-learning-models/releases/download/v0.1/vgg16_weights_tf_dim_ordering_tf_kernels_notop.h5\n",
            "58892288/58889256 [==============================] - 1s 0us/step\n",
            "Model: \"vgg16\"\n",
            "_________________________________________________________________\n",
            "Layer (type)                 Output Shape              Param #   \n",
            "=================================================================\n",
            "input_1 (InputLayer)         (None, 224, 224, 3)       0         \n",
            "_________________________________________________________________\n",
            "block1_conv1 (Conv2D)        (None, 224, 224, 64)      1792      \n",
            "_________________________________________________________________\n",
            "block1_conv2 (Conv2D)        (None, 224, 224, 64)      36928     \n",
            "_________________________________________________________________\n",
            "block1_pool (MaxPooling2D)   (None, 112, 112, 64)      0         \n",
            "_________________________________________________________________\n",
            "block2_conv1 (Conv2D)        (None, 112, 112, 128)     73856     \n",
            "_________________________________________________________________\n",
            "block2_conv2 (Conv2D)        (None, 112, 112, 128)     147584    \n",
            "_________________________________________________________________\n",
            "block2_pool (MaxPooling2D)   (None, 56, 56, 128)       0         \n",
            "_________________________________________________________________\n",
            "block3_conv1 (Conv2D)        (None, 56, 56, 256)       295168    \n",
            "_________________________________________________________________\n",
            "block3_conv2 (Conv2D)        (None, 56, 56, 256)       590080    \n",
            "_________________________________________________________________\n",
            "block3_conv3 (Conv2D)        (None, 56, 56, 256)       590080    \n",
            "_________________________________________________________________\n",
            "block3_pool (MaxPooling2D)   (None, 28, 28, 256)       0         \n",
            "_________________________________________________________________\n",
            "block4_conv1 (Conv2D)        (None, 28, 28, 512)       1180160   \n",
            "_________________________________________________________________\n",
            "block4_conv2 (Conv2D)        (None, 28, 28, 512)       2359808   \n",
            "_________________________________________________________________\n",
            "block4_conv3 (Conv2D)        (None, 28, 28, 512)       2359808   \n",
            "_________________________________________________________________\n",
            "block4_pool (MaxPooling2D)   (None, 14, 14, 512)       0         \n",
            "_________________________________________________________________\n",
            "block5_conv1 (Conv2D)        (None, 14, 14, 512)       2359808   \n",
            "_________________________________________________________________\n",
            "block5_conv2 (Conv2D)        (None, 14, 14, 512)       2359808   \n",
            "_________________________________________________________________\n",
            "block5_conv3 (Conv2D)        (None, 14, 14, 512)       2359808   \n",
            "_________________________________________________________________\n",
            "block5_pool (MaxPooling2D)   (None, 7, 7, 512)         0         \n",
            "=================================================================\n",
            "Total params: 14,714,688\n",
            "Trainable params: 14,714,688\n",
            "Non-trainable params: 0\n",
            "_________________________________________________________________\n",
            "Model: \"sequential_1\"\n",
            "_________________________________________________________________\n",
            "Layer (type)                 Output Shape              Param #   \n",
            "=================================================================\n",
            "vgg16 (Model)                (None, 7, 7, 512)         14714688  \n",
            "_________________________________________________________________\n",
            "flatten_1 (Flatten)          (None, 25088)             0         \n",
            "_________________________________________________________________\n",
            "dense_1 (Dense)              (None, 4096)              102764544 \n",
            "_________________________________________________________________\n",
            "dense_2 (Dense)              (None, 1024)              4195328   \n",
            "_________________________________________________________________\n",
            "dense_3 (Dense)              (None, 4)                 4100      \n",
            "=================================================================\n",
            "Total params: 121,678,660\n",
            "Trainable params: 121,678,660\n",
            "Non-trainable params: 0\n",
            "_________________________________________________________________\n"
          ],
          "name": "stdout"
        }
      ]
    },
    {
      "cell_type": "code",
      "metadata": {
        "id": "OaAK59W7L2nQ",
        "colab_type": "code",
        "colab": {
          "base_uri": "https://localhost:8080/",
          "height": 52
        },
        "outputId": "b25e77b7-9bf2-46e1-edcb-bdb6e7e74e2b"
      },
      "source": [
        "from keras.preprocessing.image import ImageDataGenerator\n",
        "import math\n",
        "\n",
        "test_dir = \"/content/drive/My Drive/AI_Final/car_test_set/\"\n",
        "\n",
        "# rescale values from 0 to 255 for 0 to 1 rescaled values\n",
        "\n",
        "test_datagen = ImageDataGenerator(rescale=1. / 255)\n",
        "\n",
        "# Test Accuracy (Program Test by accuracy)\n",
        "test_generator = test_datagen.flow_from_directory(test_dir, batch_size=32, target_size=(224, 224), color_mode='rgb')\n",
        "\n",
        "scores = vgg_model.evaluate_generator(test_generator, steps=math.ceil(test_generator.n / test_generator.batch_size))\n",
        "\n",
        "print(\"%s: %.2f%%\" %(vgg_model.metrics_names[1], scores[1]*100)) # test accuracy print"
      ],
      "execution_count": null,
      "outputs": [
        {
          "output_type": "stream",
          "text": [
            "Found 567 images belonging to 4 classes.\n",
            "acc: 92.06%\n"
          ],
          "name": "stdout"
        }
      ]
    }
  ]
}